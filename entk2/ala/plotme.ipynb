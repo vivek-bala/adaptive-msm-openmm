{
 "cells": [
  {
   "cell_type": "code",
   "execution_count": 10,
   "metadata": {
    "collapsed": true
   },
   "outputs": [],
   "source": [
    "import matplotlib.pyplot as plt\n",
    "import pandas as pd\n",
    "from glob import glob\n",
    "\n",
    "%matplotlib inline"
   ]
  },
  {
   "cell_type": "code",
   "execution_count": 11,
   "metadata": {
    "collapsed": true
   },
   "outputs": [],
   "source": [
    "def get_pops(fname):\n",
    "    \n",
    "    data = open(fname, 'r').readlines()\n",
    "    \n",
    "    blank=0\n",
    "    pops=[]\n",
    "    for line in data:\n",
    "        \n",
    "        if line == '\\n':\n",
    "            blank+=1\n",
    "            continue\n",
    "                \n",
    "        if blank==4:\n",
    "            break\n",
    "        \n",
    "        if blank==3:\n",
    "            pops.append(float(line.strip()))\n",
    "            \n",
    "        \n",
    "    if 'microstate' in fname:\n",
    "        pops += [0] * (100 - len(pops))\n",
    "        \n",
    "    '''        \n",
    "    if len(data) == 116:\n",
    "        pops = data[105:109]\n",
    "    else:\n",
    "        pops = data[105:205]\n",
    "    \n",
    "    for i in range(len(pops)):\n",
    "        if pops[i] == '\\n':\n",
    "            pops[i] = float(0)\n",
    "        else:\n",
    "            pops[i] = float(pops[i].strip())\n",
    "    '''\n",
    "    return pops"
   ]
  },
  {
   "cell_type": "code",
   "execution_count": 12,
   "metadata": {
    "collapsed": true
   },
   "outputs": [],
   "source": [
    "def read_data(en_size, dur, iters):\n",
    "    \n",
    "    micros = glob('./dur-%s-ensemble-%s-iters-%s/microstate_info-*.txt'%(dur, en_size, iters))\n",
    "    macros = glob('./dur-%s-ensemble-%s-iters-%s/macrostate_info-*.txt'%(dur, en_size, iters))\n",
    "    \n",
    "    micro_df = pd.DataFrame(columns=range(1,101), index=range(1, iters+1))\n",
    "    macro_df = pd.DataFrame(columns=range(1,5), index=range(1, iters+1))\n",
    "      \n",
    "    for f in micros:\n",
    "        it = int(f.split('/')[2].strip().split('-')[1].strip().split('.')[0])\n",
    "        pops = get_pops(f)\n",
    "        micro_df.loc[it] = pops\n",
    "        \n",
    "    for f in macros:\n",
    "        it = int(f.split('/')[2].strip().split('-')[1].strip().split('.')[0])\n",
    "        pops = get_pops(f)\n",
    "        macro_df.loc[it] = pops\n",
    "        \n",
    "    return micro_df, macro_df"
   ]
  },
  {
   "cell_type": "code",
   "execution_count": 15,
   "metadata": {
    "collapsed": true
   },
   "outputs": [],
   "source": [
    "def plot(en_size, dur, iters):\n",
    "    \n",
    "    micro_df, macro_df = read_data(en_size, dur,iters)\n",
    "    #print micro_df\n",
    "    #print macro_df\n",
    "    micro_ax = micro_df.plot(kind='line',marker='o',colormap='gist_rainbow', legend=False)\n",
    "    micro_ax.set_xlabel('Iterations')\n",
    "    micro_ax.set_ylabel('Fractional population')\n",
    "    micro_ax.set_title('Fractional population of the microstates \\n at each iteration - ensemble size=%s, dur=%s ns'%\n",
    "                      (en_size, dur))\n",
    "    micro_ax.set_xlim(0,iters+1)\n",
    "    plt.savefig('dur-%s-ensemble-%s-iters-%s/microstate-frac-pop.png'%(dur, en_size, iters))\n",
    "    \n",
    "    legendHandles = micro_ax.get_legend_handles_labels()\n",
    "    a = plt.figure()\n",
    "    a.legend(legendHandles[0],legendHandles[1],loc='center',ncol=4)\n",
    "    a.canvas.draw()\n",
    "    a.savefig('dur-%s-ensemble-%s-iters-%s/microstate-legend.png'%(dur, en_size, iters),bbox_inches='tight')\n",
    "    \n",
    "    \n",
    "    macro_ax = macro_df.plot(kind='line',marker='o',colormap='gist_rainbow')\n",
    "    macro_ax.set_xlabel('Iterations')\n",
    "    macro_ax.set_ylabel('Fractional population')\n",
    "    macro_ax.set_xlim(0,iters+1)\n",
    "    macro_ax.set_title('Fractional population of the macrostates \\n at each iteration - ensemble size=%s, dur=%s ns'%\n",
    "                      (en_size, dur))\n",
    "    plt.savefig('dur-%s-ensemble-%s-iters-%s/macrostate-frac-pop.png'%(dur, en_size, iters))"
   ]
  },
  {
   "cell_type": "code",
   "execution_count": null,
   "metadata": {
    "scrolled": false
   },
   "outputs": [],
   "source": [
    "# Plot single iters\n",
    "en_size = [1,10,100]\n",
    "durs=[200,20,2]\n",
    "iters=1\n",
    "\n",
    "for ind in range(len(en_size)):\n",
    "    plot(en_size[ind], durs[ind], iters)\n",
    "    \n",
    "    \n",
    "# Plot single duration\n",
    "en_size = [1,10,100]\n",
    "durs=1\n",
    "iters=[200,20,2]\n",
    "\n",
    "for ind in range(len(en_size)):\n",
    "    plot(en_size[ind], durs, iters[ind])"
   ]
  },
  {
   "cell_type": "code",
   "execution_count": null,
   "metadata": {
    "collapsed": true
   },
   "outputs": [],
   "source": []
  },
  {
   "cell_type": "code",
   "execution_count": null,
   "metadata": {
    "collapsed": true
   },
   "outputs": [],
   "source": []
  }
 ],
 "metadata": {
  "kernelspec": {
   "display_name": "Python 2",
   "language": "python",
   "name": "python2"
  },
  "language_info": {
   "codemirror_mode": {
    "name": "ipython",
    "version": 2
   },
   "file_extension": ".py",
   "mimetype": "text/x-python",
   "name": "python",
   "nbconvert_exporter": "python",
   "pygments_lexer": "ipython2",
   "version": "2.7.12"
  }
 },
 "nbformat": 4,
 "nbformat_minor": 2
}
