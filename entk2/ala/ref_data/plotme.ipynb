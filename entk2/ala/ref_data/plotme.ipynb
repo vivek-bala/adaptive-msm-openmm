{
 "cells": [
  {
   "cell_type": "code",
   "execution_count": 1,
   "metadata": {},
   "outputs": [
    {
     "name": "stderr",
     "output_type": "stream",
     "text": [
      "/usr/lib/python2.7/dist-packages/matplotlib/font_manager.py:273: UserWarning: Matplotlib is building the font cache using fc-list. This may take a moment.\n",
      "  warnings.warn('Matplotlib is building the font cache using fc-list. This may take a moment.')\n"
     ]
    }
   ],
   "source": [
    "import matplotlib.pyplot as plt\n",
    "import pandas as pd\n",
    "from glob import glob\n",
    "\n",
    "%matplotlib inline"
   ]
  },
  {
   "cell_type": "code",
   "execution_count": 2,
   "metadata": {
    "collapsed": true
   },
   "outputs": [],
   "source": [
    "def get_pops(fname):\n",
    "    \n",
    "    data = open(fname, 'r').readlines()\n",
    "    \n",
    "    blank=0\n",
    "    pops=[]\n",
    "    for line in data:\n",
    "        \n",
    "        if line == '\\n':\n",
    "            blank+=1\n",
    "            continue\n",
    "                \n",
    "        if blank==4:\n",
    "            break\n",
    "        \n",
    "        if blank==3:\n",
    "            pops.append(float(line.strip()))\n",
    "            \n",
    "        \n",
    "    if 'microstate' in fname:\n",
    "        pops += [0] * (100 - len(pops))\n",
    "        \n",
    "    '''        \n",
    "    if len(data) == 116:\n",
    "        pops = data[105:109]\n",
    "    else:\n",
    "        pops = data[105:205]\n",
    "    \n",
    "    for i in range(len(pops)):\n",
    "        if pops[i] == '\\n':\n",
    "            pops[i] = float(0)\n",
    "        else:\n",
    "            pops[i] = float(pops[i].strip())\n",
    "    '''\n",
    "    return pops"
   ]
  },
  {
   "cell_type": "code",
   "execution_count": 3,
   "metadata": {
    "collapsed": true
   },
   "outputs": [],
   "source": [
    "def read_data(iters):\n",
    "    \n",
    "    micros = glob('microstate_info*.txt')\n",
    "    macros = glob('macrostate_info*.txt')\n",
    "    \n",
    "    micro_df = pd.DataFrame(columns=range(1,101), index=range(1, iters+1))\n",
    "    macro_df = pd.DataFrame(columns=range(1,5), index=range(1, iters+1))\n",
    "      \n",
    "    for f in micros:\n",
    "        #it = int(f.split('/')[2].strip().split('-')[1].strip().split('.')[0])\n",
    "        pops = get_pops(f)\n",
    "        micro_df.loc[1] = pops\n",
    "        \n",
    "    for f in macros:\n",
    "        #it = int(f.split('/')[2].strip().split('-')[1].strip().split('.')[0])\n",
    "        pops = get_pops(f)\n",
    "        macro_df.loc[1] = pops\n",
    "        \n",
    "    return micro_df, macro_df"
   ]
  },
  {
   "cell_type": "code",
   "execution_count": 4,
   "metadata": {
    "collapsed": true
   },
   "outputs": [],
   "source": [
    "def plot():\n",
    "    \n",
    "    micro_df, macro_df = read_data(iters=1)\n",
    "    #print micro_df\n",
    "    #print macro_df\n",
    "    micro_ax = micro_df.plot(kind='line',marker='o',colormap='gist_rainbow', legend=False)\n",
    "    micro_ax.set_xlabel('Iterations')\n",
    "    micro_ax.set_ylabel('Fractional population')\n",
    "    micro_ax.set_title('Fractional population of the microstates \\n at each iteration - ensemble size=10, dur=10 ns')\n",
    "    micro_ax.set_xlim(0,2)\n",
    "    plt.savefig('microstate-frac-pop.png')\n",
    "    \n",
    "    legendHandles = micro_ax.get_legend_handles_labels()\n",
    "    a = plt.figure()\n",
    "    a.legend(legendHandles[0],legendHandles[1],loc='center',ncol=4)\n",
    "    a.canvas.draw()\n",
    "    a.savefig('microstate-legend.png',bbox_inches='tight')\n",
    "    \n",
    "    \n",
    "    macro_ax = macro_df.plot(kind='line',marker='o',colormap='gist_rainbow')\n",
    "    macro_ax.set_xlabel('Iterations')\n",
    "    macro_ax.set_ylabel('Fractional population')\n",
    "    macro_ax.set_xlim(0,2)\n",
    "    macro_ax.set_title('Fractional population of the macrostates \\n at each iteration - ensemble size=10, dur=10 ns')\n",
    "    plt.savefig('macrostate-frac-pop.png')"
   ]
  },
  {
   "cell_type": "code",
   "execution_count": 19,
   "metadata": {
    "collapsed": true
   },
   "outputs": [],
   "source": [
    "def read_uncertainty():\n",
    "    macro_df = pd.DataFrame(columns=range(1,5), index=range(1, 2))\n",
    "    \n",
    "    macros = glob('macrostate_info.txt')\n",
    "    \n",
    "    for f in macros:\n",
    "        \n",
    "        #it = int(f.split('/')[3].strip().split('-')[1].strip().split('.')[0])\n",
    "        \n",
    "        data = open(f, 'r').readlines()\n",
    "        \n",
    "        blank=0\n",
    "        vals=[]\n",
    "        for line in data:\n",
    "        \n",
    "            if line == '\\n':\n",
    "                blank+=1\n",
    "                continue\n",
    "        \n",
    "            if blank==7:\n",
    "                vals.append(float(line.strip()))\n",
    "        \n",
    "        macro_df.loc[1] = vals\n",
    "\n",
    "    return macro_df"
   ]
  },
  {
   "cell_type": "code",
   "execution_count": 20,
   "metadata": {
    "collapsed": true
   },
   "outputs": [],
   "source": [
    "def plot_uncertainty():\n",
    "    \n",
    "    macro_df = read_uncertainty()\n",
    "    print macro_df\n",
    "    macro_ax = macro_df.plot(kind='line',marker='o',colormap='gist_rainbow')\n",
    "    macro_ax.set_xlabel('Iterations')\n",
    "    macro_ax.set_ylabel('Uncertainty in Eigen values')\n",
    "    macro_ax.set_xlim(0,2)\n",
    "    macro_ax.set_title('Uncertainty of eigen values \\n at each iteration - ensemble size=10, dur=10 ns')\n",
    "    plt.savefig('uncertainty-macro.png')"
   ]
  },
  {
   "cell_type": "code",
   "execution_count": 21,
   "metadata": {
    "scrolled": false
   },
   "outputs": [
    {
     "name": "stdout",
     "output_type": "stream",
     "text": [
      "     1           2          3          4\n",
      "1  NaN  0.00314387  0.0135661  0.0230898\n"
     ]
    },
    {
     "data": {
      "image/png": "[encoded data removed]",
      "text/plain": [
       "<matplotlib.figure.Figure at 0x7f426121fb50>"
      ]
     },
     "metadata": {},
     "output_type": "display_data"
    }
   ],
   "source": [
    "# Plot single iters\n",
    "plot_uncertainty()"
   ]
  },
  {
   "cell_type": "code",
   "execution_count": null,
   "metadata": {
    "collapsed": true
   },
   "outputs": [],
   "source": []
  },
  {
   "cell_type": "code",
   "execution_count": null,
   "metadata": {
    "collapsed": true
   },
   "outputs": [],
   "source": []
  }
 ],
 "metadata": {
  "kernelspec": {
   "display_name": "Python 2",
   "language": "python",
   "name": "python2"
  },
  "language_info": {
   "codemirror_mode": {
    "name": "ipython",
    "version": 2
   },
   "file_extension": ".py",
   "mimetype": "text/x-python",
   "name": "python",
   "nbconvert_exporter": "python",
   "pygments_lexer": "ipython2",
   "version": "2.7.12"
  }
 },
 "nbformat": 4,
 "nbformat_minor": 2
}
