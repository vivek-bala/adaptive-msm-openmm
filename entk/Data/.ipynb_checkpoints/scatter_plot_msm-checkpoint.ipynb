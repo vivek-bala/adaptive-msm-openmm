{
 "cells": [
  {
   "cell_type": "code",
   "execution_count": 2,
   "metadata": {
    "collapsed": true
   },
   "outputs": [],
   "source": [
    "%matplotlib inline"
   ]
  },
  {
   "cell_type": "code",
   "execution_count": 5,
   "metadata": {
    "collapsed": false
   },
   "outputs": [
    {
     "name": "stdout",
     "output_type": "stream",
     "text": [
      "    serial name element  resSeq resName  chainID segmentID\n",
      "0        1   H1       H       1     ACE        0          \n",
      "1        2  CH3       C       1     ACE        0          \n",
      "2        3   H2       H       1     ACE        0          \n",
      "3        4   H3       H       1     ACE        0          \n",
      "4        5    C       C       1     ACE        0          \n",
      "5        6    O       O       1     ACE        0          \n",
      "6        7    N       N       2     ALA        0          \n",
      "7        8    H       H       2     ALA        0          \n",
      "8        9   CA       C       2     ALA        0          \n",
      "9       10   HA       H       2     ALA        0          \n",
      "10      11   CB       C       2     ALA        0          \n",
      "11      12  HB1       H       2     ALA        0          \n",
      "12      13  HB2       H       2     ALA        0          \n",
      "13      14  HB3       H       2     ALA        0          \n",
      "14      15    C       C       2     ALA        0          \n",
      "15      16    O       O       2     ALA        0          \n",
      "16      17    N       N       3     NME        0          \n",
      "17      18    H       H       3     NME        0          \n",
      "18      19    C       C       3     NME        0          \n",
      "19      20   H1       H       3     NME        0          \n",
      "20      21   H2       H       3     NME        0          \n",
      "21      22   H3       H       3     NME        0          \n"
     ]
    },
    {
     "data": {
      "image/png": "[encoded data removed]",
      "text/plain": [
       "<matplotlib.figure.Figure at 0x7fd38cdb4590>"
      ]
     },
     "metadata": {},
     "output_type": "display_data"
    }
   ],
   "source": [
    "import mdtraj\n",
    "import sys\n",
    "import pylab\n",
    "import matplotlib as mpl\n",
    "import matplotlib.pyplot as plt\n",
    "from math import pi\n",
    "\n",
    "if __name__ == '__main__':\n",
    "\n",
    "    fname = 'maxstate_0.pdb'\n",
    "\n",
    "    traj = mdtraj.load(fname)\n",
    "    atoms, bonds = traj.topology.to_dataframe()\n",
    "    print atoms\n",
    "\n",
    "    psi_indices, phi_indices = [6, 8, 14, 16], [4, 6, 8, 14]\n",
    "    angles = mdtraj.geometry.compute_dihedrals(traj, [phi_indices, psi_indices])\n",
    "\n",
    "    plt.scatter(angles[:, 0], angles[:, 1], marker='x', c=traj.time)\n",
    "    plt.xlim(-pi, pi)\n",
    "    plt.ylim(-pi, pi)\n"
   ]
  },
  {
   "cell_type": "code",
   "execution_count": null,
   "metadata": {
    "collapsed": true
   },
   "outputs": [],
   "source": []
  }
 ],
 "metadata": {
  "kernelspec": {
   "display_name": "Python 2",
   "language": "python",
   "name": "python2"
  },
  "language_info": {
   "codemirror_mode": {
    "name": "ipython",
    "version": 2
   },
   "file_extension": ".py",
   "mimetype": "text/x-python",
   "name": "python",
   "nbconvert_exporter": "python",
   "pygments_lexer": "ipython2",
   "version": "2.7.12"
  }
 },
 "nbformat": 4,
 "nbformat_minor": 1
}
